{
 "cells": [
  {
   "cell_type": "markdown",
   "metadata": {},
   "source": [
    "# Advanced Hyperparameter Tuning \n",
    "\n",
    "### 1.Introduction \n",
    "\n",
    "This project is based on the popular wine quality dataset from kaggle. \n",
    "\n",
    "\n",
    "The aim of the project is to learn and use hyperparameter optimization using advanced libraries and autoML"
   ]
  },
  {
   "cell_type": "code",
   "execution_count": 1,
   "metadata": {},
   "outputs": [
    {
     "data": {
      "text/html": [
       "<div>\n",
       "<style scoped>\n",
       "    .dataframe tbody tr th:only-of-type {\n",
       "        vertical-align: middle;\n",
       "    }\n",
       "\n",
       "    .dataframe tbody tr th {\n",
       "        vertical-align: top;\n",
       "    }\n",
       "\n",
       "    .dataframe thead th {\n",
       "        text-align: right;\n",
       "    }\n",
       "</style>\n",
       "<table border=\"1\" class=\"dataframe\">\n",
       "  <thead>\n",
       "    <tr style=\"text-align: right;\">\n",
       "      <th></th>\n",
       "      <th>Pregnancies</th>\n",
       "      <th>Glucose</th>\n",
       "      <th>BloodPressure</th>\n",
       "      <th>SkinThickness</th>\n",
       "      <th>Insulin</th>\n",
       "      <th>BMI</th>\n",
       "      <th>DiabetesPedigreeFunction</th>\n",
       "      <th>Age</th>\n",
       "      <th>Outcome</th>\n",
       "    </tr>\n",
       "  </thead>\n",
       "  <tbody>\n",
       "    <tr>\n",
       "      <th>0</th>\n",
       "      <td>6</td>\n",
       "      <td>148</td>\n",
       "      <td>72</td>\n",
       "      <td>35</td>\n",
       "      <td>0</td>\n",
       "      <td>33.6</td>\n",
       "      <td>0.627</td>\n",
       "      <td>50</td>\n",
       "      <td>1</td>\n",
       "    </tr>\n",
       "    <tr>\n",
       "      <th>1</th>\n",
       "      <td>1</td>\n",
       "      <td>85</td>\n",
       "      <td>66</td>\n",
       "      <td>29</td>\n",
       "      <td>0</td>\n",
       "      <td>26.6</td>\n",
       "      <td>0.351</td>\n",
       "      <td>31</td>\n",
       "      <td>0</td>\n",
       "    </tr>\n",
       "    <tr>\n",
       "      <th>2</th>\n",
       "      <td>8</td>\n",
       "      <td>183</td>\n",
       "      <td>64</td>\n",
       "      <td>0</td>\n",
       "      <td>0</td>\n",
       "      <td>23.3</td>\n",
       "      <td>0.672</td>\n",
       "      <td>32</td>\n",
       "      <td>1</td>\n",
       "    </tr>\n",
       "    <tr>\n",
       "      <th>3</th>\n",
       "      <td>1</td>\n",
       "      <td>89</td>\n",
       "      <td>66</td>\n",
       "      <td>23</td>\n",
       "      <td>94</td>\n",
       "      <td>28.1</td>\n",
       "      <td>0.167</td>\n",
       "      <td>21</td>\n",
       "      <td>0</td>\n",
       "    </tr>\n",
       "    <tr>\n",
       "      <th>4</th>\n",
       "      <td>0</td>\n",
       "      <td>137</td>\n",
       "      <td>40</td>\n",
       "      <td>35</td>\n",
       "      <td>168</td>\n",
       "      <td>43.1</td>\n",
       "      <td>2.288</td>\n",
       "      <td>33</td>\n",
       "      <td>1</td>\n",
       "    </tr>\n",
       "  </tbody>\n",
       "</table>\n",
       "</div>"
      ],
      "text/plain": [
       "   Pregnancies  Glucose  BloodPressure  SkinThickness  Insulin   BMI  \\\n",
       "0            6      148             72             35        0  33.6   \n",
       "1            1       85             66             29        0  26.6   \n",
       "2            8      183             64              0        0  23.3   \n",
       "3            1       89             66             23       94  28.1   \n",
       "4            0      137             40             35      168  43.1   \n",
       "\n",
       "   DiabetesPedigreeFunction  Age  Outcome  \n",
       "0                     0.627   50        1  \n",
       "1                     0.351   31        0  \n",
       "2                     0.672   32        1  \n",
       "3                     0.167   21        0  \n",
       "4                     2.288   33        1  "
      ]
     },
     "execution_count": 1,
     "metadata": {},
     "output_type": "execute_result"
    }
   ],
   "source": [
    "import pandas as pd \n",
    "\n",
    "PATH = r\"D:\\\\Coding_Stuff\\\\GitHub\\\\Machine_Learning_and_Optimization\\\\2. Advanced Hyperparameter Tuning\\\\diabetes.csv\"\n",
    "\n",
    "data = pd.read_csv(PATH)\n",
    "\n",
    "data.head(5)"
   ]
  },
  {
   "cell_type": "code",
   "execution_count": 2,
   "metadata": {},
   "outputs": [
    {
     "name": "stdout",
     "output_type": "stream",
     "text": [
      "Pregnancies: 111\n",
      "Glucose: 5\n",
      "BloodPressure: 35\n",
      "SkinThickness: 227\n",
      "Insulin: 374\n",
      "BMI: 11\n",
      "DiabetesPedigreeFunction: 0\n",
      "Age: 0\n",
      "Outcome: 500\n"
     ]
    }
   ],
   "source": [
    "# check for enteries with zero as value in each column \n",
    "\n",
    "for column in data.columns.tolist():\n",
    "    print(f\"{column}:\", len(data[data[column]==0][column]))\n"
   ]
  },
  {
   "cell_type": "markdown",
   "metadata": {},
   "source": [
    "All columns except `Glucose` and `Insulin` can be zero, because there will be some `Glucose` and `Insulin` content in patients. Zero value can be the result of wrong registering of data."
   ]
  },
  {
   "cell_type": "code",
   "execution_count": 3,
   "metadata": {},
   "outputs": [
    {
     "data": {
      "text/html": [
       "<div>\n",
       "<style scoped>\n",
       "    .dataframe tbody tr th:only-of-type {\n",
       "        vertical-align: middle;\n",
       "    }\n",
       "\n",
       "    .dataframe tbody tr th {\n",
       "        vertical-align: top;\n",
       "    }\n",
       "\n",
       "    .dataframe thead th {\n",
       "        text-align: right;\n",
       "    }\n",
       "</style>\n",
       "<table border=\"1\" class=\"dataframe\">\n",
       "  <thead>\n",
       "    <tr style=\"text-align: right;\">\n",
       "      <th></th>\n",
       "      <th>Pregnancies</th>\n",
       "      <th>Glucose</th>\n",
       "      <th>BloodPressure</th>\n",
       "      <th>SkinThickness</th>\n",
       "      <th>Insulin</th>\n",
       "      <th>BMI</th>\n",
       "      <th>DiabetesPedigreeFunction</th>\n",
       "      <th>Age</th>\n",
       "      <th>Outcome</th>\n",
       "    </tr>\n",
       "  </thead>\n",
       "  <tbody>\n",
       "    <tr>\n",
       "      <th>0</th>\n",
       "      <td>6</td>\n",
       "      <td>148.0</td>\n",
       "      <td>72</td>\n",
       "      <td>35</td>\n",
       "      <td>30.5</td>\n",
       "      <td>33.6</td>\n",
       "      <td>0.627</td>\n",
       "      <td>50</td>\n",
       "      <td>1</td>\n",
       "    </tr>\n",
       "    <tr>\n",
       "      <th>1</th>\n",
       "      <td>1</td>\n",
       "      <td>85.0</td>\n",
       "      <td>66</td>\n",
       "      <td>29</td>\n",
       "      <td>30.5</td>\n",
       "      <td>26.6</td>\n",
       "      <td>0.351</td>\n",
       "      <td>31</td>\n",
       "      <td>0</td>\n",
       "    </tr>\n",
       "    <tr>\n",
       "      <th>2</th>\n",
       "      <td>8</td>\n",
       "      <td>183.0</td>\n",
       "      <td>64</td>\n",
       "      <td>0</td>\n",
       "      <td>30.5</td>\n",
       "      <td>23.3</td>\n",
       "      <td>0.672</td>\n",
       "      <td>32</td>\n",
       "      <td>1</td>\n",
       "    </tr>\n",
       "    <tr>\n",
       "      <th>3</th>\n",
       "      <td>1</td>\n",
       "      <td>89.0</td>\n",
       "      <td>66</td>\n",
       "      <td>23</td>\n",
       "      <td>94.0</td>\n",
       "      <td>28.1</td>\n",
       "      <td>0.167</td>\n",
       "      <td>21</td>\n",
       "      <td>0</td>\n",
       "    </tr>\n",
       "    <tr>\n",
       "      <th>4</th>\n",
       "      <td>0</td>\n",
       "      <td>137.0</td>\n",
       "      <td>40</td>\n",
       "      <td>35</td>\n",
       "      <td>168.0</td>\n",
       "      <td>43.1</td>\n",
       "      <td>2.288</td>\n",
       "      <td>33</td>\n",
       "      <td>1</td>\n",
       "    </tr>\n",
       "  </tbody>\n",
       "</table>\n",
       "</div>"
      ],
      "text/plain": [
       "   Pregnancies  Glucose  BloodPressure  SkinThickness  Insulin   BMI  \\\n",
       "0            6    148.0             72             35     30.5  33.6   \n",
       "1            1     85.0             66             29     30.5  26.6   \n",
       "2            8    183.0             64              0     30.5  23.3   \n",
       "3            1     89.0             66             23     94.0  28.1   \n",
       "4            0    137.0             40             35    168.0  43.1   \n",
       "\n",
       "   DiabetesPedigreeFunction  Age  Outcome  \n",
       "0                     0.627   50        1  \n",
       "1                     0.351   31        0  \n",
       "2                     0.672   32        1  \n",
       "3                     0.167   21        0  \n",
       "4                     2.288   33        1  "
      ]
     },
     "execution_count": 3,
     "metadata": {},
     "output_type": "execute_result"
    }
   ],
   "source": [
    "# replace zero value in glucose and Insulin with median value\n",
    "\n",
    "import numpy as np \n",
    "\n",
    "data['Glucose'] = np.where(data['Glucose']==0, data['Glucose'].median(), data['Glucose'])\n",
    "data['Insulin'] = np.where(data['Insulin']==0, data['Insulin'].median(), data['Insulin'])\n",
    "\n",
    "data.head(5)"
   ]
  },
  {
   "cell_type": "code",
   "execution_count": 4,
   "metadata": {},
   "outputs": [
    {
     "name": "stdout",
     "output_type": "stream",
     "text": [
      "Pregnancies: 111\n",
      "Glucose: 0\n",
      "BloodPressure: 35\n",
      "SkinThickness: 227\n",
      "Insulin: 0\n",
      "BMI: 11\n",
      "DiabetesPedigreeFunction: 0\n",
      "Age: 0\n",
      "Outcome: 500\n"
     ]
    }
   ],
   "source": [
    "# check for enteries with zero as value in each column \n",
    "\n",
    "for column in data.columns.tolist():\n",
    "    print(f\"{column}:\", len(data[data[column]==0][column]))\n"
   ]
  },
  {
   "cell_type": "code",
   "execution_count": 5,
   "metadata": {},
   "outputs": [],
   "source": [
    "# assign data labels\n",
    "\n",
    "x = data.iloc[:, :-1]\n",
    "y = data.iloc[:, -1]\n",
    "\n",
    "#splitting data\n",
    "from sklearn.model_selection import  train_test_split\n",
    "X_train, X_test, y_train, y_test = train_test_split(x,y, test_size = 0.2, stratify = y)"
   ]
  },
  {
   "cell_type": "code",
   "execution_count": 6,
   "metadata": {},
   "outputs": [],
   "source": [
    "from sklearn.ensemble import RandomForestClassifier\n",
    "rf_estimator = RandomForestClassifier(n_estimators=10).fit(X_train,y_train)\n",
    "prediction = rf_estimator.predict(X_test)"
   ]
  },
  {
   "cell_type": "code",
   "execution_count": 7,
   "metadata": {},
   "outputs": [
    {
     "name": "stdout",
     "output_type": "stream",
     "text": [
      "<-------------------Confusion metrics results is ------------->\n",
      " : [[85 15]\n",
      " [24 30]]\n",
      "<------------------Classification report is---------------> \n",
      ":               precision    recall  f1-score   support\n",
      "\n",
      "           0       0.78      0.85      0.81       100\n",
      "           1       0.67      0.56      0.61        54\n",
      "\n",
      "    accuracy                           0.75       154\n",
      "   macro avg       0.72      0.70      0.71       154\n",
      "weighted avg       0.74      0.75      0.74       154\n",
      "\n",
      "<------------------ Accuracy score----------------> \n",
      ": 0.7467532467532467\n"
     ]
    }
   ],
   "source": [
    "from sklearn.metrics import  classification_report, confusion_matrix, accuracy_score\n",
    "\n",
    "print(\"<-------------------Confusion metrics results is ------------->\\n : {}\".format(confusion_matrix(y_test, prediction)))\n",
    "print(\"<------------------Classification report is---------------> \\n: {}\".format(classification_report(y_test, prediction)))\n",
    "print(\"<------------------ Accuracy score----------------> \\n: {}\".format(accuracy_score(y_test, prediction)))"
   ]
  },
  {
   "cell_type": "markdown",
   "metadata": {},
   "source": [
    "### Hyperparameter tuning (manual)\n",
    "\n",
    "The hyperparametrs associated with RandomForest are:-\n",
    "\n",
    "### The main parameters used by a Random Forest\n",
    "- criterion = the function used to evaluate the quality of a split\n",
    "- max_depth = maximum number of levels allowed in each tree\n",
    "- max_features = maximum number of features considered when splitting a node.\n",
    "- min_samples_leaf = minimum number of samples which can be stored in a tree leaf.\n",
    "- min_samples_split = minimum number of samples necessary in a node to cause node splitting.\n",
    "- n_estimarors = number of trees in the ensemble.\n",
    "\n",
    "### 1.Random Search"
   ]
  },
  {
   "cell_type": "code",
   "execution_count": 8,
   "metadata": {},
   "outputs": [
    {
     "data": {
      "text/plain": [
       "[10, 120, 230, 340, 450, 560, 670, 780, 890, 1000]"
      ]
     },
     "execution_count": 8,
     "metadata": {},
     "output_type": "execute_result"
    }
   ],
   "source": [
    "n_estimators = [int(x) for x in np.linspace(start=200, stop=2000, num=10)]\n",
    "max_depth = [int(x) for x in np.linspace(start=10,stop=1000, num=10)]\n",
    "max_depth"
   ]
  },
  {
   "cell_type": "code",
   "execution_count": 9,
   "metadata": {},
   "outputs": [
    {
     "data": {
      "text/plain": [
       "{'n_estimators': [200, 400, 600, 800, 1000, 1200, 1400, 1600, 1800, 2000],\n",
       " 'max_features': ['sqrt', 'log2'],\n",
       " 'max_depth': [10, 120, 230, 340, 450, 560, 670, 780, 890, 1000],\n",
       " 'min_samples_split': [2, 3, 4, 5, 7, 9],\n",
       " 'min_samples_leaf': [2, 4, 6, 8],\n",
       " 'criterion': ['entropy', 'gini']}"
      ]
     },
     "execution_count": 9,
     "metadata": {},
     "output_type": "execute_result"
    }
   ],
   "source": [
    "from sklearn.model_selection import  RandomizedSearchCV\n",
    "\n",
    "n_estimators = [int(x) for x in np.linspace(start=200, stop=2000, num=10)]\n",
    "\n",
    "max_features = ['sqrt','log2']\n",
    "\n",
    "max_depth = [int(x) for x in np.linspace(start=10,stop=1000, num=10)]\n",
    "\n",
    "min_samples_split = [2,3,4,5,7,9]\n",
    "\n",
    "min_sample_leaf = [2,4,6,8]\n",
    "\n",
    "search_space = {\n",
    "    'n_estimators':n_estimators,\n",
    "    'max_features':max_features,\n",
    "    'max_depth':max_depth,\n",
    "    'min_samples_split':min_samples_split,\n",
    "    'min_samples_leaf':min_sample_leaf,\n",
    "    'criterion':['entropy','gini']}\n",
    "\n",
    "search_space"
   ]
  },
  {
   "cell_type": "code",
   "execution_count": 10,
   "metadata": {},
   "outputs": [
    {
     "name": "stdout",
     "output_type": "stream",
     "text": [
      "Fitting 3 folds for each of 100 candidates, totalling 300 fits\n",
      "[CV] END criterion=entropy, max_depth=10, max_features=sqrt, min_samples_leaf=4, min_samples_split=4, n_estimators=1800; total time=   2.8s\n",
      "[CV] END criterion=entropy, max_depth=10, max_features=sqrt, min_samples_leaf=4, min_samples_split=4, n_estimators=1800; total time=   2.7s\n",
      "[CV] END criterion=entropy, max_depth=10, max_features=sqrt, min_samples_leaf=4, min_samples_split=4, n_estimators=1800; total time=   2.8s\n",
      "[CV] END criterion=gini, max_depth=340, max_features=log2, min_samples_leaf=8, min_samples_split=3, n_estimators=200; total time=   0.2s\n",
      "[CV] END criterion=gini, max_depth=340, max_features=log2, min_samples_leaf=8, min_samples_split=3, n_estimators=200; total time=   0.2s\n",
      "[CV] END criterion=gini, max_depth=340, max_features=log2, min_samples_leaf=8, min_samples_split=3, n_estimators=200; total time=   0.2s\n",
      "[CV] END criterion=entropy, max_depth=120, max_features=log2, min_samples_leaf=4, min_samples_split=7, n_estimators=1600; total time=   2.8s\n",
      "[CV] END criterion=entropy, max_depth=120, max_features=log2, min_samples_leaf=4, min_samples_split=7, n_estimators=1600; total time=   2.8s\n",
      "[CV] END criterion=entropy, max_depth=120, max_features=log2, min_samples_leaf=4, min_samples_split=7, n_estimators=1600; total time=   2.8s\n",
      "[CV] END criterion=gini, max_depth=340, max_features=log2, min_samples_leaf=6, min_samples_split=4, n_estimators=1000; total time=   1.5s\n",
      "[CV] END criterion=gini, max_depth=340, max_features=log2, min_samples_leaf=6, min_samples_split=4, n_estimators=1000; total time=   1.5s\n",
      "[CV] END criterion=gini, max_depth=340, max_features=log2, min_samples_leaf=6, min_samples_split=4, n_estimators=1000; total time=   1.5s\n",
      "[CV] END criterion=gini, max_depth=1000, max_features=log2, min_samples_leaf=8, min_samples_split=2, n_estimators=800; total time=   1.2s\n",
      "[CV] END criterion=gini, max_depth=1000, max_features=log2, min_samples_leaf=8, min_samples_split=2, n_estimators=800; total time=   1.2s\n",
      "[CV] END criterion=gini, max_depth=1000, max_features=log2, min_samples_leaf=8, min_samples_split=2, n_estimators=800; total time=   1.1s\n",
      "[CV] END criterion=gini, max_depth=340, max_features=log2, min_samples_leaf=4, min_samples_split=2, n_estimators=800; total time=   1.4s\n",
      "[CV] END criterion=gini, max_depth=340, max_features=log2, min_samples_leaf=4, min_samples_split=2, n_estimators=800; total time=   1.3s\n",
      "[CV] END criterion=gini, max_depth=340, max_features=log2, min_samples_leaf=4, min_samples_split=2, n_estimators=800; total time=   1.4s\n",
      "[CV] END criterion=entropy, max_depth=670, max_features=log2, min_samples_leaf=4, min_samples_split=4, n_estimators=1800; total time=   3.1s\n",
      "[CV] END criterion=entropy, max_depth=670, max_features=log2, min_samples_leaf=4, min_samples_split=4, n_estimators=1800; total time=   3.0s\n",
      "[CV] END criterion=entropy, max_depth=670, max_features=log2, min_samples_leaf=4, min_samples_split=4, n_estimators=1800; total time=   3.1s\n",
      "[CV] END criterion=gini, max_depth=670, max_features=log2, min_samples_leaf=4, min_samples_split=9, n_estimators=1800; total time=   2.8s\n",
      "[CV] END criterion=gini, max_depth=670, max_features=log2, min_samples_leaf=4, min_samples_split=9, n_estimators=1800; total time=   2.8s\n",
      "[CV] END criterion=gini, max_depth=670, max_features=log2, min_samples_leaf=4, min_samples_split=9, n_estimators=1800; total time=   2.8s\n",
      "[CV] END criterion=gini, max_depth=120, max_features=sqrt, min_samples_leaf=6, min_samples_split=2, n_estimators=1800; total time=   2.4s\n",
      "[CV] END criterion=gini, max_depth=120, max_features=sqrt, min_samples_leaf=6, min_samples_split=2, n_estimators=1800; total time=   2.4s\n",
      "[CV] END criterion=gini, max_depth=120, max_features=sqrt, min_samples_leaf=6, min_samples_split=2, n_estimators=1800; total time=   2.4s\n",
      "[CV] END criterion=gini, max_depth=890, max_features=log2, min_samples_leaf=2, min_samples_split=4, n_estimators=800; total time=   1.3s\n",
      "[CV] END criterion=gini, max_depth=890, max_features=log2, min_samples_leaf=2, min_samples_split=4, n_estimators=800; total time=   1.4s\n",
      "[CV] END criterion=gini, max_depth=890, max_features=log2, min_samples_leaf=2, min_samples_split=4, n_estimators=800; total time=   1.3s\n",
      "[CV] END criterion=gini, max_depth=340, max_features=log2, min_samples_leaf=6, min_samples_split=9, n_estimators=1600; total time=   2.4s\n",
      "[CV] END criterion=gini, max_depth=340, max_features=log2, min_samples_leaf=6, min_samples_split=9, n_estimators=1600; total time=   2.4s\n",
      "[CV] END criterion=gini, max_depth=340, max_features=log2, min_samples_leaf=6, min_samples_split=9, n_estimators=1600; total time=   2.4s\n",
      "[CV] END criterion=entropy, max_depth=10, max_features=sqrt, min_samples_leaf=6, min_samples_split=7, n_estimators=1200; total time=   1.6s\n",
      "[CV] END criterion=entropy, max_depth=10, max_features=sqrt, min_samples_leaf=6, min_samples_split=7, n_estimators=1200; total time=   1.6s\n",
      "[CV] END criterion=entropy, max_depth=10, max_features=sqrt, min_samples_leaf=6, min_samples_split=7, n_estimators=1200; total time=   1.6s\n",
      "[CV] END criterion=entropy, max_depth=560, max_features=sqrt, min_samples_leaf=2, min_samples_split=2, n_estimators=1000; total time=   1.8s\n",
      "[CV] END criterion=entropy, max_depth=560, max_features=sqrt, min_samples_leaf=2, min_samples_split=2, n_estimators=1000; total time=   1.6s\n",
      "[CV] END criterion=entropy, max_depth=560, max_features=sqrt, min_samples_leaf=2, min_samples_split=2, n_estimators=1000; total time=   1.6s\n",
      "[CV] END criterion=entropy, max_depth=780, max_features=log2, min_samples_leaf=8, min_samples_split=7, n_estimators=1600; total time=   2.4s\n",
      "[CV] END criterion=entropy, max_depth=780, max_features=log2, min_samples_leaf=8, min_samples_split=7, n_estimators=1600; total time=   2.4s\n",
      "[CV] END criterion=entropy, max_depth=780, max_features=log2, min_samples_leaf=8, min_samples_split=7, n_estimators=1600; total time=   2.4s\n",
      "[CV] END criterion=entropy, max_depth=560, max_features=sqrt, min_samples_leaf=2, min_samples_split=4, n_estimators=2000; total time=   3.2s\n",
      "[CV] END criterion=entropy, max_depth=560, max_features=sqrt, min_samples_leaf=2, min_samples_split=4, n_estimators=2000; total time=   3.2s\n",
      "[CV] END criterion=entropy, max_depth=560, max_features=sqrt, min_samples_leaf=2, min_samples_split=4, n_estimators=2000; total time=   3.3s\n",
      "[CV] END criterion=entropy, max_depth=890, max_features=log2, min_samples_leaf=2, min_samples_split=7, n_estimators=400; total time=   0.6s\n",
      "[CV] END criterion=entropy, max_depth=890, max_features=log2, min_samples_leaf=2, min_samples_split=7, n_estimators=400; total time=   0.6s\n",
      "[CV] END criterion=entropy, max_depth=890, max_features=log2, min_samples_leaf=2, min_samples_split=7, n_estimators=400; total time=   0.7s\n",
      "[CV] END criterion=entropy, max_depth=120, max_features=log2, min_samples_leaf=2, min_samples_split=2, n_estimators=800; total time=   1.4s\n",
      "[CV] END criterion=entropy, max_depth=120, max_features=log2, min_samples_leaf=2, min_samples_split=2, n_estimators=800; total time=   1.4s\n",
      "[CV] END criterion=entropy, max_depth=120, max_features=log2, min_samples_leaf=2, min_samples_split=2, n_estimators=800; total time=   1.5s\n",
      "[CV] END criterion=entropy, max_depth=450, max_features=log2, min_samples_leaf=4, min_samples_split=7, n_estimators=1400; total time=   2.4s\n",
      "[CV] END criterion=entropy, max_depth=450, max_features=log2, min_samples_leaf=4, min_samples_split=7, n_estimators=1400; total time=   2.3s\n",
      "[CV] END criterion=entropy, max_depth=450, max_features=log2, min_samples_leaf=4, min_samples_split=7, n_estimators=1400; total time=   2.4s\n",
      "[CV] END criterion=gini, max_depth=450, max_features=sqrt, min_samples_leaf=4, min_samples_split=2, n_estimators=1000; total time=   1.4s\n",
      "[CV] END criterion=gini, max_depth=450, max_features=sqrt, min_samples_leaf=4, min_samples_split=2, n_estimators=1000; total time=   1.3s\n",
      "[CV] END criterion=gini, max_depth=450, max_features=sqrt, min_samples_leaf=4, min_samples_split=2, n_estimators=1000; total time=   1.4s\n",
      "[CV] END criterion=gini, max_depth=780, max_features=log2, min_samples_leaf=8, min_samples_split=2, n_estimators=600; total time=   0.8s\n",
      "[CV] END criterion=gini, max_depth=780, max_features=log2, min_samples_leaf=8, min_samples_split=2, n_estimators=600; total time=   0.8s\n",
      "[CV] END criterion=gini, max_depth=780, max_features=log2, min_samples_leaf=8, min_samples_split=2, n_estimators=600; total time=   0.8s\n",
      "[CV] END criterion=entropy, max_depth=450, max_features=log2, min_samples_leaf=8, min_samples_split=3, n_estimators=2000; total time=   3.2s\n",
      "[CV] END criterion=entropy, max_depth=450, max_features=log2, min_samples_leaf=8, min_samples_split=3, n_estimators=2000; total time=   3.1s\n",
      "[CV] END criterion=entropy, max_depth=450, max_features=log2, min_samples_leaf=8, min_samples_split=3, n_estimators=2000; total time=   3.1s\n",
      "[CV] END criterion=gini, max_depth=120, max_features=sqrt, min_samples_leaf=4, min_samples_split=5, n_estimators=1200; total time=   1.8s\n",
      "[CV] END criterion=gini, max_depth=120, max_features=sqrt, min_samples_leaf=4, min_samples_split=5, n_estimators=1200; total time=   1.7s\n",
      "[CV] END criterion=gini, max_depth=120, max_features=sqrt, min_samples_leaf=4, min_samples_split=5, n_estimators=1200; total time=   1.7s\n",
      "[CV] END criterion=entropy, max_depth=670, max_features=sqrt, min_samples_leaf=8, min_samples_split=4, n_estimators=200; total time=   0.4s\n",
      "[CV] END criterion=entropy, max_depth=670, max_features=sqrt, min_samples_leaf=8, min_samples_split=4, n_estimators=200; total time=   0.3s\n",
      "[CV] END criterion=entropy, max_depth=670, max_features=sqrt, min_samples_leaf=8, min_samples_split=4, n_estimators=200; total time=   0.2s\n",
      "[CV] END criterion=entropy, max_depth=230, max_features=sqrt, min_samples_leaf=4, min_samples_split=7, n_estimators=1400; total time=   2.2s\n",
      "[CV] END criterion=entropy, max_depth=230, max_features=sqrt, min_samples_leaf=4, min_samples_split=7, n_estimators=1400; total time=   2.1s\n",
      "[CV] END criterion=entropy, max_depth=230, max_features=sqrt, min_samples_leaf=4, min_samples_split=7, n_estimators=1400; total time=   2.1s\n",
      "[CV] END criterion=gini, max_depth=450, max_features=log2, min_samples_leaf=8, min_samples_split=7, n_estimators=400; total time=   0.5s\n",
      "[CV] END criterion=gini, max_depth=450, max_features=log2, min_samples_leaf=8, min_samples_split=7, n_estimators=400; total time=   0.6s\n",
      "[CV] END criterion=gini, max_depth=450, max_features=log2, min_samples_leaf=8, min_samples_split=7, n_estimators=400; total time=   0.6s\n",
      "[CV] END criterion=gini, max_depth=560, max_features=sqrt, min_samples_leaf=2, min_samples_split=3, n_estimators=1600; total time=   2.7s\n",
      "[CV] END criterion=gini, max_depth=560, max_features=sqrt, min_samples_leaf=2, min_samples_split=3, n_estimators=1600; total time=   2.5s\n",
      "[CV] END criterion=gini, max_depth=560, max_features=sqrt, min_samples_leaf=2, min_samples_split=3, n_estimators=1600; total time=   2.5s\n",
      "[CV] END criterion=gini, max_depth=120, max_features=log2, min_samples_leaf=8, min_samples_split=9, n_estimators=1000; total time=   1.4s\n",
      "[CV] END criterion=gini, max_depth=120, max_features=log2, min_samples_leaf=8, min_samples_split=9, n_estimators=1000; total time=   1.5s\n",
      "[CV] END criterion=gini, max_depth=120, max_features=log2, min_samples_leaf=8, min_samples_split=9, n_estimators=1000; total time=   1.4s\n",
      "[CV] END criterion=gini, max_depth=890, max_features=log2, min_samples_leaf=8, min_samples_split=2, n_estimators=1200; total time=   1.7s\n",
      "[CV] END criterion=gini, max_depth=890, max_features=log2, min_samples_leaf=8, min_samples_split=2, n_estimators=1200; total time=   1.7s\n",
      "[CV] END criterion=gini, max_depth=890, max_features=log2, min_samples_leaf=8, min_samples_split=2, n_estimators=1200; total time=   1.7s\n",
      "[CV] END criterion=entropy, max_depth=450, max_features=log2, min_samples_leaf=2, min_samples_split=5, n_estimators=2000; total time=   3.8s\n",
      "[CV] END criterion=entropy, max_depth=450, max_features=log2, min_samples_leaf=2, min_samples_split=5, n_estimators=2000; total time=   4.4s\n",
      "[CV] END criterion=entropy, max_depth=450, max_features=log2, min_samples_leaf=2, min_samples_split=5, n_estimators=2000; total time=   3.9s\n",
      "[CV] END criterion=entropy, max_depth=780, max_features=log2, min_samples_leaf=2, min_samples_split=3, n_estimators=1600; total time=   3.1s\n",
      "[CV] END criterion=entropy, max_depth=780, max_features=log2, min_samples_leaf=2, min_samples_split=3, n_estimators=1600; total time=   3.0s\n",
      "[CV] END criterion=entropy, max_depth=780, max_features=log2, min_samples_leaf=2, min_samples_split=3, n_estimators=1600; total time=   3.6s\n",
      "[CV] END criterion=gini, max_depth=1000, max_features=sqrt, min_samples_leaf=6, min_samples_split=2, n_estimators=200; total time=   0.3s\n",
      "[CV] END criterion=gini, max_depth=1000, max_features=sqrt, min_samples_leaf=6, min_samples_split=2, n_estimators=200; total time=   0.3s\n",
      "[CV] END criterion=gini, max_depth=1000, max_features=sqrt, min_samples_leaf=6, min_samples_split=2, n_estimators=200; total time=   0.3s\n",
      "[CV] END criterion=gini, max_depth=560, max_features=sqrt, min_samples_leaf=8, min_samples_split=7, n_estimators=2000; total time=   4.1s\n",
      "[CV] END criterion=gini, max_depth=560, max_features=sqrt, min_samples_leaf=8, min_samples_split=7, n_estimators=2000; total time=   2.9s\n",
      "[CV] END criterion=gini, max_depth=560, max_features=sqrt, min_samples_leaf=8, min_samples_split=7, n_estimators=2000; total time=   2.6s\n",
      "[CV] END criterion=gini, max_depth=120, max_features=sqrt, min_samples_leaf=2, min_samples_split=7, n_estimators=400; total time=   0.5s\n",
      "[CV] END criterion=gini, max_depth=120, max_features=sqrt, min_samples_leaf=2, min_samples_split=7, n_estimators=400; total time=   0.5s\n",
      "[CV] END criterion=gini, max_depth=120, max_features=sqrt, min_samples_leaf=2, min_samples_split=7, n_estimators=400; total time=   0.5s\n",
      "[CV] END criterion=gini, max_depth=120, max_features=log2, min_samples_leaf=8, min_samples_split=5, n_estimators=1000; total time=   1.4s\n",
      "[CV] END criterion=gini, max_depth=120, max_features=log2, min_samples_leaf=8, min_samples_split=5, n_estimators=1000; total time=   1.4s\n",
      "[CV] END criterion=gini, max_depth=120, max_features=log2, min_samples_leaf=8, min_samples_split=5, n_estimators=1000; total time=   1.4s\n",
      "[CV] END criterion=gini, max_depth=10, max_features=sqrt, min_samples_leaf=4, min_samples_split=2, n_estimators=2000; total time=   2.8s\n",
      "[CV] END criterion=gini, max_depth=10, max_features=sqrt, min_samples_leaf=4, min_samples_split=2, n_estimators=2000; total time=   2.8s\n",
      "[CV] END criterion=gini, max_depth=10, max_features=sqrt, min_samples_leaf=4, min_samples_split=2, n_estimators=2000; total time=   2.8s\n",
      "[CV] END criterion=entropy, max_depth=780, max_features=sqrt, min_samples_leaf=6, min_samples_split=7, n_estimators=1400; total time=   1.9s\n",
      "[CV] END criterion=entropy, max_depth=780, max_features=sqrt, min_samples_leaf=6, min_samples_split=7, n_estimators=1400; total time=   1.9s\n",
      "[CV] END criterion=entropy, max_depth=780, max_features=sqrt, min_samples_leaf=6, min_samples_split=7, n_estimators=1400; total time=   1.9s\n",
      "[CV] END criterion=entropy, max_depth=120, max_features=sqrt, min_samples_leaf=8, min_samples_split=4, n_estimators=1400; total time=   1.8s\n",
      "[CV] END criterion=entropy, max_depth=120, max_features=sqrt, min_samples_leaf=8, min_samples_split=4, n_estimators=1400; total time=   1.8s\n",
      "[CV] END criterion=entropy, max_depth=120, max_features=sqrt, min_samples_leaf=8, min_samples_split=4, n_estimators=1400; total time=   1.8s\n",
      "[CV] END criterion=gini, max_depth=230, max_features=log2, min_samples_leaf=6, min_samples_split=7, n_estimators=1400; total time=   2.0s\n",
      "[CV] END criterion=gini, max_depth=230, max_features=log2, min_samples_leaf=6, min_samples_split=7, n_estimators=1400; total time=   2.0s\n",
      "[CV] END criterion=gini, max_depth=230, max_features=log2, min_samples_leaf=6, min_samples_split=7, n_estimators=1400; total time=   2.1s\n",
      "[CV] END criterion=gini, max_depth=340, max_features=log2, min_samples_leaf=8, min_samples_split=5, n_estimators=1600; total time=   2.2s\n",
      "[CV] END criterion=gini, max_depth=340, max_features=log2, min_samples_leaf=8, min_samples_split=5, n_estimators=1600; total time=   2.3s\n",
      "[CV] END criterion=gini, max_depth=340, max_features=log2, min_samples_leaf=8, min_samples_split=5, n_estimators=1600; total time=   2.3s\n",
      "[CV] END criterion=entropy, max_depth=1000, max_features=sqrt, min_samples_leaf=6, min_samples_split=4, n_estimators=1400; total time=   1.9s\n",
      "[CV] END criterion=entropy, max_depth=1000, max_features=sqrt, min_samples_leaf=6, min_samples_split=4, n_estimators=1400; total time=   1.9s\n",
      "[CV] END criterion=entropy, max_depth=1000, max_features=sqrt, min_samples_leaf=6, min_samples_split=4, n_estimators=1400; total time=   1.9s\n",
      "[CV] END criterion=entropy, max_depth=890, max_features=log2, min_samples_leaf=2, min_samples_split=5, n_estimators=800; total time=   1.4s\n",
      "[CV] END criterion=entropy, max_depth=890, max_features=log2, min_samples_leaf=2, min_samples_split=5, n_estimators=800; total time=   1.4s\n",
      "[CV] END criterion=entropy, max_depth=890, max_features=log2, min_samples_leaf=2, min_samples_split=5, n_estimators=800; total time=   1.4s\n",
      "[CV] END criterion=gini, max_depth=890, max_features=sqrt, min_samples_leaf=6, min_samples_split=7, n_estimators=600; total time=   0.7s\n",
      "[CV] END criterion=gini, max_depth=890, max_features=sqrt, min_samples_leaf=6, min_samples_split=7, n_estimators=600; total time=   0.7s\n",
      "[CV] END criterion=gini, max_depth=890, max_features=sqrt, min_samples_leaf=6, min_samples_split=7, n_estimators=600; total time=   0.7s\n",
      "[CV] END criterion=gini, max_depth=450, max_features=sqrt, min_samples_leaf=4, min_samples_split=7, n_estimators=1800; total time=   2.5s\n",
      "[CV] END criterion=gini, max_depth=450, max_features=sqrt, min_samples_leaf=4, min_samples_split=7, n_estimators=1800; total time=   2.5s\n",
      "[CV] END criterion=gini, max_depth=450, max_features=sqrt, min_samples_leaf=4, min_samples_split=7, n_estimators=1800; total time=   2.5s\n",
      "[CV] END criterion=entropy, max_depth=890, max_features=sqrt, min_samples_leaf=4, min_samples_split=3, n_estimators=1400; total time=   2.0s\n",
      "[CV] END criterion=entropy, max_depth=890, max_features=sqrt, min_samples_leaf=4, min_samples_split=3, n_estimators=1400; total time=   2.0s\n",
      "[CV] END criterion=entropy, max_depth=890, max_features=sqrt, min_samples_leaf=4, min_samples_split=3, n_estimators=1400; total time=   2.1s\n",
      "[CV] END criterion=gini, max_depth=560, max_features=log2, min_samples_leaf=8, min_samples_split=2, n_estimators=400; total time=   0.5s\n",
      "[CV] END criterion=gini, max_depth=560, max_features=log2, min_samples_leaf=8, min_samples_split=2, n_estimators=400; total time=   0.5s\n",
      "[CV] END criterion=gini, max_depth=560, max_features=log2, min_samples_leaf=8, min_samples_split=2, n_estimators=400; total time=   0.5s\n",
      "[CV] END criterion=entropy, max_depth=560, max_features=log2, min_samples_leaf=8, min_samples_split=7, n_estimators=1000; total time=   1.4s\n",
      "[CV] END criterion=entropy, max_depth=560, max_features=log2, min_samples_leaf=8, min_samples_split=7, n_estimators=1000; total time=   1.4s\n",
      "[CV] END criterion=entropy, max_depth=560, max_features=log2, min_samples_leaf=8, min_samples_split=7, n_estimators=1000; total time=   1.5s\n",
      "[CV] END criterion=gini, max_depth=670, max_features=log2, min_samples_leaf=6, min_samples_split=3, n_estimators=800; total time=   1.1s\n",
      "[CV] END criterion=gini, max_depth=670, max_features=log2, min_samples_leaf=6, min_samples_split=3, n_estimators=800; total time=   1.1s\n",
      "[CV] END criterion=gini, max_depth=670, max_features=log2, min_samples_leaf=6, min_samples_split=3, n_estimators=800; total time=   1.1s\n",
      "[CV] END criterion=gini, max_depth=340, max_features=sqrt, min_samples_leaf=4, min_samples_split=5, n_estimators=1800; total time=   2.5s\n",
      "[CV] END criterion=gini, max_depth=340, max_features=sqrt, min_samples_leaf=4, min_samples_split=5, n_estimators=1800; total time=   2.5s\n",
      "[CV] END criterion=gini, max_depth=340, max_features=sqrt, min_samples_leaf=4, min_samples_split=5, n_estimators=1800; total time=   2.5s\n",
      "[CV] END criterion=gini, max_depth=670, max_features=sqrt, min_samples_leaf=2, min_samples_split=9, n_estimators=1600; total time=   2.3s\n",
      "[CV] END criterion=gini, max_depth=670, max_features=sqrt, min_samples_leaf=2, min_samples_split=9, n_estimators=1600; total time=   2.3s\n",
      "[CV] END criterion=gini, max_depth=670, max_features=sqrt, min_samples_leaf=2, min_samples_split=9, n_estimators=1600; total time=   2.3s\n",
      "[CV] END criterion=gini, max_depth=1000, max_features=sqrt, min_samples_leaf=2, min_samples_split=2, n_estimators=1000; total time=   1.4s\n",
      "[CV] END criterion=gini, max_depth=1000, max_features=sqrt, min_samples_leaf=2, min_samples_split=2, n_estimators=1000; total time=   1.5s\n",
      "[CV] END criterion=gini, max_depth=1000, max_features=sqrt, min_samples_leaf=2, min_samples_split=2, n_estimators=1000; total time=   1.5s\n",
      "[CV] END criterion=gini, max_depth=340, max_features=log2, min_samples_leaf=2, min_samples_split=5, n_estimators=1600; total time=   2.7s\n",
      "[CV] END criterion=gini, max_depth=340, max_features=log2, min_samples_leaf=2, min_samples_split=5, n_estimators=1600; total time=   2.7s\n",
      "[CV] END criterion=gini, max_depth=340, max_features=log2, min_samples_leaf=2, min_samples_split=5, n_estimators=1600; total time=   2.7s\n",
      "[CV] END criterion=gini, max_depth=1000, max_features=sqrt, min_samples_leaf=8, min_samples_split=3, n_estimators=600; total time=   0.7s\n",
      "[CV] END criterion=gini, max_depth=1000, max_features=sqrt, min_samples_leaf=8, min_samples_split=3, n_estimators=600; total time=   0.7s\n",
      "[CV] END criterion=gini, max_depth=1000, max_features=sqrt, min_samples_leaf=8, min_samples_split=3, n_estimators=600; total time=   0.7s\n",
      "[CV] END criterion=gini, max_depth=780, max_features=log2, min_samples_leaf=4, min_samples_split=5, n_estimators=1800; total time=   2.8s\n",
      "[CV] END criterion=gini, max_depth=780, max_features=log2, min_samples_leaf=4, min_samples_split=5, n_estimators=1800; total time=   2.8s\n",
      "[CV] END criterion=gini, max_depth=780, max_features=log2, min_samples_leaf=4, min_samples_split=5, n_estimators=1800; total time=   2.8s\n",
      "[CV] END criterion=entropy, max_depth=780, max_features=sqrt, min_samples_leaf=6, min_samples_split=9, n_estimators=1400; total time=   1.9s\n",
      "[CV] END criterion=entropy, max_depth=780, max_features=sqrt, min_samples_leaf=6, min_samples_split=9, n_estimators=1400; total time=   1.9s\n",
      "[CV] END criterion=entropy, max_depth=780, max_features=sqrt, min_samples_leaf=6, min_samples_split=9, n_estimators=1400; total time=   1.9s\n",
      "[CV] END criterion=entropy, max_depth=670, max_features=sqrt, min_samples_leaf=6, min_samples_split=2, n_estimators=1000; total time=   1.3s\n",
      "[CV] END criterion=entropy, max_depth=670, max_features=sqrt, min_samples_leaf=6, min_samples_split=2, n_estimators=1000; total time=   1.4s\n",
      "[CV] END criterion=entropy, max_depth=670, max_features=sqrt, min_samples_leaf=6, min_samples_split=2, n_estimators=1000; total time=   1.3s\n",
      "[CV] END criterion=gini, max_depth=340, max_features=sqrt, min_samples_leaf=4, min_samples_split=2, n_estimators=600; total time=   0.9s\n",
      "[CV] END criterion=gini, max_depth=340, max_features=sqrt, min_samples_leaf=4, min_samples_split=2, n_estimators=600; total time=   0.8s\n",
      "[CV] END criterion=gini, max_depth=340, max_features=sqrt, min_samples_leaf=4, min_samples_split=2, n_estimators=600; total time=   0.8s\n",
      "[CV] END criterion=gini, max_depth=340, max_features=sqrt, min_samples_leaf=6, min_samples_split=4, n_estimators=200; total time=   0.2s\n",
      "[CV] END criterion=gini, max_depth=340, max_features=sqrt, min_samples_leaf=6, min_samples_split=4, n_estimators=200; total time=   0.2s\n",
      "[CV] END criterion=gini, max_depth=340, max_features=sqrt, min_samples_leaf=6, min_samples_split=4, n_estimators=200; total time=   0.2s\n",
      "[CV] END criterion=gini, max_depth=230, max_features=log2, min_samples_leaf=4, min_samples_split=7, n_estimators=400; total time=   0.5s\n",
      "[CV] END criterion=gini, max_depth=230, max_features=log2, min_samples_leaf=4, min_samples_split=7, n_estimators=400; total time=   0.6s\n",
      "[CV] END criterion=gini, max_depth=230, max_features=log2, min_samples_leaf=4, min_samples_split=7, n_estimators=400; total time=   0.6s\n",
      "[CV] END criterion=entropy, max_depth=890, max_features=sqrt, min_samples_leaf=2, min_samples_split=2, n_estimators=1400; total time=   2.2s\n",
      "[CV] END criterion=entropy, max_depth=890, max_features=sqrt, min_samples_leaf=2, min_samples_split=2, n_estimators=1400; total time=   2.2s\n",
      "[CV] END criterion=entropy, max_depth=890, max_features=sqrt, min_samples_leaf=2, min_samples_split=2, n_estimators=1400; total time=   2.2s\n",
      "[CV] END criterion=entropy, max_depth=1000, max_features=log2, min_samples_leaf=8, min_samples_split=7, n_estimators=2000; total time=   3.0s\n",
      "[CV] END criterion=entropy, max_depth=1000, max_features=log2, min_samples_leaf=8, min_samples_split=7, n_estimators=2000; total time=   3.0s\n",
      "[CV] END criterion=entropy, max_depth=1000, max_features=log2, min_samples_leaf=8, min_samples_split=7, n_estimators=2000; total time=   3.0s\n",
      "[CV] END criterion=gini, max_depth=340, max_features=log2, min_samples_leaf=2, min_samples_split=2, n_estimators=2000; total time=   3.5s\n",
      "[CV] END criterion=gini, max_depth=340, max_features=log2, min_samples_leaf=2, min_samples_split=2, n_estimators=2000; total time=   3.4s\n",
      "[CV] END criterion=gini, max_depth=340, max_features=log2, min_samples_leaf=2, min_samples_split=2, n_estimators=2000; total time=   3.5s\n",
      "[CV] END criterion=gini, max_depth=560, max_features=sqrt, min_samples_leaf=8, min_samples_split=2, n_estimators=1400; total time=   1.7s\n",
      "[CV] END criterion=gini, max_depth=560, max_features=sqrt, min_samples_leaf=8, min_samples_split=2, n_estimators=1400; total time=   1.8s\n",
      "[CV] END criterion=gini, max_depth=560, max_features=sqrt, min_samples_leaf=8, min_samples_split=2, n_estimators=1400; total time=   1.7s\n",
      "[CV] END criterion=entropy, max_depth=230, max_features=sqrt, min_samples_leaf=8, min_samples_split=2, n_estimators=2000; total time=   2.6s\n",
      "[CV] END criterion=entropy, max_depth=230, max_features=sqrt, min_samples_leaf=8, min_samples_split=2, n_estimators=2000; total time=   2.6s\n",
      "[CV] END criterion=entropy, max_depth=230, max_features=sqrt, min_samples_leaf=8, min_samples_split=2, n_estimators=2000; total time=   2.6s\n",
      "[CV] END criterion=entropy, max_depth=890, max_features=sqrt, min_samples_leaf=6, min_samples_split=5, n_estimators=2000; total time=   2.7s\n",
      "[CV] END criterion=entropy, max_depth=890, max_features=sqrt, min_samples_leaf=6, min_samples_split=5, n_estimators=2000; total time=   2.7s\n",
      "[CV] END criterion=entropy, max_depth=890, max_features=sqrt, min_samples_leaf=6, min_samples_split=5, n_estimators=2000; total time=   2.8s\n",
      "[CV] END criterion=entropy, max_depth=1000, max_features=log2, min_samples_leaf=8, min_samples_split=4, n_estimators=1800; total time=   2.7s\n",
      "[CV] END criterion=entropy, max_depth=1000, max_features=log2, min_samples_leaf=8, min_samples_split=4, n_estimators=1800; total time=   2.7s\n",
      "[CV] END criterion=entropy, max_depth=1000, max_features=log2, min_samples_leaf=8, min_samples_split=4, n_estimators=1800; total time=   2.8s\n",
      "[CV] END criterion=entropy, max_depth=450, max_features=sqrt, min_samples_leaf=8, min_samples_split=5, n_estimators=400; total time=   0.5s\n",
      "[CV] END criterion=entropy, max_depth=450, max_features=sqrt, min_samples_leaf=8, min_samples_split=5, n_estimators=400; total time=   0.4s\n",
      "[CV] END criterion=entropy, max_depth=450, max_features=sqrt, min_samples_leaf=8, min_samples_split=5, n_estimators=400; total time=   0.5s\n",
      "[CV] END criterion=gini, max_depth=670, max_features=log2, min_samples_leaf=6, min_samples_split=4, n_estimators=400; total time=   0.5s\n",
      "[CV] END criterion=gini, max_depth=670, max_features=log2, min_samples_leaf=6, min_samples_split=4, n_estimators=400; total time=   0.5s\n",
      "[CV] END criterion=gini, max_depth=670, max_features=log2, min_samples_leaf=6, min_samples_split=4, n_estimators=400; total time=   0.5s\n",
      "[CV] END criterion=gini, max_depth=890, max_features=sqrt, min_samples_leaf=2, min_samples_split=9, n_estimators=1800; total time=   2.6s\n",
      "[CV] END criterion=gini, max_depth=890, max_features=sqrt, min_samples_leaf=2, min_samples_split=9, n_estimators=1800; total time=   2.6s\n",
      "[CV] END criterion=gini, max_depth=890, max_features=sqrt, min_samples_leaf=2, min_samples_split=9, n_estimators=1800; total time=   2.6s\n",
      "[CV] END criterion=gini, max_depth=10, max_features=log2, min_samples_leaf=8, min_samples_split=5, n_estimators=1800; total time=   2.5s\n",
      "[CV] END criterion=gini, max_depth=10, max_features=log2, min_samples_leaf=8, min_samples_split=5, n_estimators=1800; total time=   2.6s\n",
      "[CV] END criterion=gini, max_depth=10, max_features=log2, min_samples_leaf=8, min_samples_split=5, n_estimators=1800; total time=   2.6s\n",
      "[CV] END criterion=entropy, max_depth=1000, max_features=log2, min_samples_leaf=8, min_samples_split=5, n_estimators=2000; total time=   3.0s\n",
      "[CV] END criterion=entropy, max_depth=1000, max_features=log2, min_samples_leaf=8, min_samples_split=5, n_estimators=2000; total time=   3.0s\n",
      "[CV] END criterion=entropy, max_depth=1000, max_features=log2, min_samples_leaf=8, min_samples_split=5, n_estimators=2000; total time=   3.0s\n",
      "[CV] END criterion=gini, max_depth=670, max_features=log2, min_samples_leaf=6, min_samples_split=9, n_estimators=400; total time=   0.5s\n",
      "[CV] END criterion=gini, max_depth=670, max_features=log2, min_samples_leaf=6, min_samples_split=9, n_estimators=400; total time=   0.5s\n",
      "[CV] END criterion=gini, max_depth=670, max_features=log2, min_samples_leaf=6, min_samples_split=9, n_estimators=400; total time=   0.5s\n",
      "[CV] END criterion=entropy, max_depth=340, max_features=sqrt, min_samples_leaf=8, min_samples_split=4, n_estimators=2000; total time=   2.6s\n",
      "[CV] END criterion=entropy, max_depth=340, max_features=sqrt, min_samples_leaf=8, min_samples_split=4, n_estimators=2000; total time=   2.6s\n",
      "[CV] END criterion=entropy, max_depth=340, max_features=sqrt, min_samples_leaf=8, min_samples_split=4, n_estimators=2000; total time=   2.6s\n",
      "[CV] END criterion=gini, max_depth=450, max_features=log2, min_samples_leaf=4, min_samples_split=5, n_estimators=600; total time=   0.9s\n",
      "[CV] END criterion=gini, max_depth=450, max_features=log2, min_samples_leaf=4, min_samples_split=5, n_estimators=600; total time=   0.9s\n",
      "[CV] END criterion=gini, max_depth=450, max_features=log2, min_samples_leaf=4, min_samples_split=5, n_estimators=600; total time=   0.9s\n",
      "[CV] END criterion=entropy, max_depth=560, max_features=sqrt, min_samples_leaf=8, min_samples_split=5, n_estimators=1000; total time=   1.3s\n",
      "[CV] END criterion=entropy, max_depth=560, max_features=sqrt, min_samples_leaf=8, min_samples_split=5, n_estimators=1000; total time=   1.3s\n",
      "[CV] END criterion=entropy, max_depth=560, max_features=sqrt, min_samples_leaf=8, min_samples_split=5, n_estimators=1000; total time=   1.3s\n",
      "[CV] END criterion=entropy, max_depth=230, max_features=sqrt, min_samples_leaf=8, min_samples_split=2, n_estimators=800; total time=   1.4s\n",
      "[CV] END criterion=entropy, max_depth=230, max_features=sqrt, min_samples_leaf=8, min_samples_split=2, n_estimators=800; total time=   1.9s\n",
      "[CV] END criterion=entropy, max_depth=230, max_features=sqrt, min_samples_leaf=8, min_samples_split=2, n_estimators=800; total time=   1.5s\n",
      "[CV] END criterion=entropy, max_depth=560, max_features=log2, min_samples_leaf=6, min_samples_split=3, n_estimators=1200; total time=   2.4s\n",
      "[CV] END criterion=entropy, max_depth=560, max_features=log2, min_samples_leaf=6, min_samples_split=3, n_estimators=1200; total time=   2.5s\n",
      "[CV] END criterion=entropy, max_depth=560, max_features=log2, min_samples_leaf=6, min_samples_split=3, n_estimators=1200; total time=   2.2s\n",
      "[CV] END criterion=entropy, max_depth=560, max_features=sqrt, min_samples_leaf=8, min_samples_split=9, n_estimators=2000; total time=   2.8s\n",
      "[CV] END criterion=entropy, max_depth=560, max_features=sqrt, min_samples_leaf=8, min_samples_split=9, n_estimators=2000; total time=   3.1s\n",
      "[CV] END criterion=entropy, max_depth=560, max_features=sqrt, min_samples_leaf=8, min_samples_split=9, n_estimators=2000; total time=   3.0s\n",
      "[CV] END criterion=entropy, max_depth=120, max_features=sqrt, min_samples_leaf=4, min_samples_split=4, n_estimators=1000; total time=   2.3s\n",
      "[CV] END criterion=entropy, max_depth=120, max_features=sqrt, min_samples_leaf=4, min_samples_split=4, n_estimators=1000; total time=   2.6s\n",
      "[CV] END criterion=entropy, max_depth=120, max_features=sqrt, min_samples_leaf=4, min_samples_split=4, n_estimators=1000; total time=   1.5s\n",
      "[CV] END criterion=gini, max_depth=560, max_features=sqrt, min_samples_leaf=4, min_samples_split=2, n_estimators=2000; total time=   3.2s\n",
      "[CV] END criterion=gini, max_depth=560, max_features=sqrt, min_samples_leaf=4, min_samples_split=2, n_estimators=2000; total time=   4.0s\n",
      "[CV] END criterion=gini, max_depth=560, max_features=sqrt, min_samples_leaf=4, min_samples_split=2, n_estimators=2000; total time=   2.8s\n",
      "[CV] END criterion=gini, max_depth=780, max_features=log2, min_samples_leaf=2, min_samples_split=3, n_estimators=200; total time=   0.3s\n",
      "[CV] END criterion=gini, max_depth=780, max_features=log2, min_samples_leaf=2, min_samples_split=3, n_estimators=200; total time=   0.3s\n",
      "[CV] END criterion=gini, max_depth=780, max_features=log2, min_samples_leaf=2, min_samples_split=3, n_estimators=200; total time=   0.3s\n",
      "[CV] END criterion=entropy, max_depth=670, max_features=log2, min_samples_leaf=4, min_samples_split=5, n_estimators=400; total time=   0.6s\n",
      "[CV] END criterion=entropy, max_depth=670, max_features=log2, min_samples_leaf=4, min_samples_split=5, n_estimators=400; total time=   0.7s\n",
      "[CV] END criterion=entropy, max_depth=670, max_features=log2, min_samples_leaf=4, min_samples_split=5, n_estimators=400; total time=   0.8s\n",
      "[CV] END criterion=gini, max_depth=670, max_features=log2, min_samples_leaf=6, min_samples_split=2, n_estimators=1200; total time=   2.3s\n",
      "[CV] END criterion=gini, max_depth=670, max_features=log2, min_samples_leaf=6, min_samples_split=2, n_estimators=1200; total time=   1.8s\n",
      "[CV] END criterion=gini, max_depth=670, max_features=log2, min_samples_leaf=6, min_samples_split=2, n_estimators=1200; total time=   1.8s\n",
      "[CV] END criterion=gini, max_depth=120, max_features=log2, min_samples_leaf=6, min_samples_split=5, n_estimators=400; total time=   0.5s\n",
      "[CV] END criterion=gini, max_depth=120, max_features=log2, min_samples_leaf=6, min_samples_split=5, n_estimators=400; total time=   0.6s\n",
      "[CV] END criterion=gini, max_depth=120, max_features=log2, min_samples_leaf=6, min_samples_split=5, n_estimators=400; total time=   0.5s\n",
      "[CV] END criterion=entropy, max_depth=670, max_features=sqrt, min_samples_leaf=8, min_samples_split=3, n_estimators=1400; total time=   1.8s\n",
      "[CV] END criterion=entropy, max_depth=670, max_features=sqrt, min_samples_leaf=8, min_samples_split=3, n_estimators=1400; total time=   1.8s\n",
      "[CV] END criterion=entropy, max_depth=670, max_features=sqrt, min_samples_leaf=8, min_samples_split=3, n_estimators=1400; total time=   1.8s\n",
      "[CV] END criterion=gini, max_depth=890, max_features=sqrt, min_samples_leaf=6, min_samples_split=9, n_estimators=1200; total time=   1.5s\n",
      "[CV] END criterion=gini, max_depth=890, max_features=sqrt, min_samples_leaf=6, min_samples_split=9, n_estimators=1200; total time=   1.6s\n",
      "[CV] END criterion=gini, max_depth=890, max_features=sqrt, min_samples_leaf=6, min_samples_split=9, n_estimators=1200; total time=   1.6s\n",
      "[CV] END criterion=entropy, max_depth=10, max_features=sqrt, min_samples_leaf=4, min_samples_split=9, n_estimators=1400; total time=   2.0s\n",
      "[CV] END criterion=entropy, max_depth=10, max_features=sqrt, min_samples_leaf=4, min_samples_split=9, n_estimators=1400; total time=   2.0s\n",
      "[CV] END criterion=entropy, max_depth=10, max_features=sqrt, min_samples_leaf=4, min_samples_split=9, n_estimators=1400; total time=   2.0s\n",
      "[CV] END criterion=gini, max_depth=1000, max_features=log2, min_samples_leaf=2, min_samples_split=3, n_estimators=1200; total time=   2.1s\n",
      "[CV] END criterion=gini, max_depth=1000, max_features=log2, min_samples_leaf=2, min_samples_split=3, n_estimators=1200; total time=   2.3s\n",
      "[CV] END criterion=gini, max_depth=1000, max_features=log2, min_samples_leaf=2, min_samples_split=3, n_estimators=1200; total time=   2.1s\n",
      "[CV] END criterion=entropy, max_depth=670, max_features=log2, min_samples_leaf=8, min_samples_split=4, n_estimators=1600; total time=   2.4s\n",
      "[CV] END criterion=entropy, max_depth=670, max_features=log2, min_samples_leaf=8, min_samples_split=4, n_estimators=1600; total time=   2.4s\n",
      "[CV] END criterion=entropy, max_depth=670, max_features=log2, min_samples_leaf=8, min_samples_split=4, n_estimators=1600; total time=   2.5s\n",
      "[CV] END criterion=entropy, max_depth=890, max_features=sqrt, min_samples_leaf=2, min_samples_split=7, n_estimators=400; total time=   0.6s\n",
      "[CV] END criterion=entropy, max_depth=890, max_features=sqrt, min_samples_leaf=2, min_samples_split=7, n_estimators=400; total time=   0.5s\n",
      "[CV] END criterion=entropy, max_depth=890, max_features=sqrt, min_samples_leaf=2, min_samples_split=7, n_estimators=400; total time=   0.7s\n",
      "[CV] END criterion=entropy, max_depth=670, max_features=sqrt, min_samples_leaf=2, min_samples_split=4, n_estimators=2000; total time=   4.1s\n",
      "[CV] END criterion=entropy, max_depth=670, max_features=sqrt, min_samples_leaf=2, min_samples_split=4, n_estimators=2000; total time=   3.3s\n",
      "[CV] END criterion=entropy, max_depth=670, max_features=sqrt, min_samples_leaf=2, min_samples_split=4, n_estimators=2000; total time=   4.5s\n",
      "[CV] END criterion=gini, max_depth=1000, max_features=log2, min_samples_leaf=6, min_samples_split=9, n_estimators=1800; total time=   3.4s\n",
      "[CV] END criterion=gini, max_depth=1000, max_features=log2, min_samples_leaf=6, min_samples_split=9, n_estimators=1800; total time=   2.7s\n",
      "[CV] END criterion=gini, max_depth=1000, max_features=log2, min_samples_leaf=6, min_samples_split=9, n_estimators=1800; total time=   2.7s\n",
      "[CV] END criterion=entropy, max_depth=120, max_features=sqrt, min_samples_leaf=6, min_samples_split=2, n_estimators=200; total time=   0.2s\n",
      "[CV] END criterion=entropy, max_depth=120, max_features=sqrt, min_samples_leaf=6, min_samples_split=2, n_estimators=200; total time=   0.2s\n",
      "[CV] END criterion=entropy, max_depth=120, max_features=sqrt, min_samples_leaf=6, min_samples_split=2, n_estimators=200; total time=   0.2s\n",
      "[CV] END criterion=gini, max_depth=450, max_features=log2, min_samples_leaf=6, min_samples_split=4, n_estimators=600; total time=   0.8s\n",
      "[CV] END criterion=gini, max_depth=450, max_features=log2, min_samples_leaf=6, min_samples_split=4, n_estimators=600; total time=   0.9s\n",
      "[CV] END criterion=gini, max_depth=450, max_features=log2, min_samples_leaf=6, min_samples_split=4, n_estimators=600; total time=   0.8s\n",
      "[CV] END criterion=gini, max_depth=450, max_features=log2, min_samples_leaf=2, min_samples_split=9, n_estimators=1400; total time=   2.8s\n",
      "[CV] END criterion=gini, max_depth=450, max_features=log2, min_samples_leaf=2, min_samples_split=9, n_estimators=1400; total time=   2.6s\n",
      "[CV] END criterion=gini, max_depth=450, max_features=log2, min_samples_leaf=2, min_samples_split=9, n_estimators=1400; total time=   2.4s\n",
      "[CV] END criterion=entropy, max_depth=1000, max_features=sqrt, min_samples_leaf=4, min_samples_split=3, n_estimators=800; total time=   1.4s\n",
      "[CV] END criterion=entropy, max_depth=1000, max_features=sqrt, min_samples_leaf=4, min_samples_split=3, n_estimators=800; total time=   1.8s\n",
      "[CV] END criterion=entropy, max_depth=1000, max_features=sqrt, min_samples_leaf=4, min_samples_split=3, n_estimators=800; total time=   1.2s\n",
      "[CV] END criterion=gini, max_depth=10, max_features=log2, min_samples_leaf=4, min_samples_split=4, n_estimators=1600; total time=   2.6s\n",
      "[CV] END criterion=gini, max_depth=10, max_features=log2, min_samples_leaf=4, min_samples_split=4, n_estimators=1600; total time=   3.4s\n",
      "[CV] END criterion=gini, max_depth=10, max_features=log2, min_samples_leaf=4, min_samples_split=4, n_estimators=1600; total time=   2.6s\n",
      "[CV] END criterion=gini, max_depth=450, max_features=log2, min_samples_leaf=8, min_samples_split=2, n_estimators=400; total time=   0.5s\n",
      "[CV] END criterion=gini, max_depth=450, max_features=log2, min_samples_leaf=8, min_samples_split=2, n_estimators=400; total time=   0.5s\n",
      "[CV] END criterion=gini, max_depth=450, max_features=log2, min_samples_leaf=8, min_samples_split=2, n_estimators=400; total time=   0.5s\n",
      "[CV] END criterion=entropy, max_depth=670, max_features=log2, min_samples_leaf=2, min_samples_split=2, n_estimators=2000; total time=   3.8s\n",
      "[CV] END criterion=entropy, max_depth=670, max_features=log2, min_samples_leaf=2, min_samples_split=2, n_estimators=2000; total time=   3.8s\n",
      "[CV] END criterion=entropy, max_depth=670, max_features=log2, min_samples_leaf=2, min_samples_split=2, n_estimators=2000; total time=   3.8s\n",
      "[CV] END criterion=gini, max_depth=230, max_features=log2, min_samples_leaf=6, min_samples_split=3, n_estimators=600; total time=   0.8s\n",
      "[CV] END criterion=gini, max_depth=230, max_features=log2, min_samples_leaf=6, min_samples_split=3, n_estimators=600; total time=   0.8s\n",
      "[CV] END criterion=gini, max_depth=230, max_features=log2, min_samples_leaf=6, min_samples_split=3, n_estimators=600; total time=   0.9s\n",
      "[CV] END criterion=entropy, max_depth=120, max_features=sqrt, min_samples_leaf=2, min_samples_split=7, n_estimators=1200; total time=   2.0s\n",
      "[CV] END criterion=entropy, max_depth=120, max_features=sqrt, min_samples_leaf=2, min_samples_split=7, n_estimators=1200; total time=   1.9s\n",
      "[CV] END criterion=entropy, max_depth=120, max_features=sqrt, min_samples_leaf=2, min_samples_split=7, n_estimators=1200; total time=   1.9s\n"
     ]
    },
    {
     "data": {
      "text/html": [
       "<style>#sk-container-id-1 {color: black;}#sk-container-id-1 pre{padding: 0;}#sk-container-id-1 div.sk-toggleable {background-color: white;}#sk-container-id-1 label.sk-toggleable__label {cursor: pointer;display: block;width: 100%;margin-bottom: 0;padding: 0.3em;box-sizing: border-box;text-align: center;}#sk-container-id-1 label.sk-toggleable__label-arrow:before {content: \"▸\";float: left;margin-right: 0.25em;color: #696969;}#sk-container-id-1 label.sk-toggleable__label-arrow:hover:before {color: black;}#sk-container-id-1 div.sk-estimator:hover label.sk-toggleable__label-arrow:before {color: black;}#sk-container-id-1 div.sk-toggleable__content {max-height: 0;max-width: 0;overflow: hidden;text-align: left;background-color: #f0f8ff;}#sk-container-id-1 div.sk-toggleable__content pre {margin: 0.2em;color: black;border-radius: 0.25em;background-color: #f0f8ff;}#sk-container-id-1 input.sk-toggleable__control:checked~div.sk-toggleable__content {max-height: 200px;max-width: 100%;overflow: auto;}#sk-container-id-1 input.sk-toggleable__control:checked~label.sk-toggleable__label-arrow:before {content: \"▾\";}#sk-container-id-1 div.sk-estimator input.sk-toggleable__control:checked~label.sk-toggleable__label {background-color: #d4ebff;}#sk-container-id-1 div.sk-label input.sk-toggleable__control:checked~label.sk-toggleable__label {background-color: #d4ebff;}#sk-container-id-1 input.sk-hidden--visually {border: 0;clip: rect(1px 1px 1px 1px);clip: rect(1px, 1px, 1px, 1px);height: 1px;margin: -1px;overflow: hidden;padding: 0;position: absolute;width: 1px;}#sk-container-id-1 div.sk-estimator {font-family: monospace;background-color: #f0f8ff;border: 1px dotted black;border-radius: 0.25em;box-sizing: border-box;margin-bottom: 0.5em;}#sk-container-id-1 div.sk-estimator:hover {background-color: #d4ebff;}#sk-container-id-1 div.sk-parallel-item::after {content: \"\";width: 100%;border-bottom: 1px solid gray;flex-grow: 1;}#sk-container-id-1 div.sk-label:hover label.sk-toggleable__label {background-color: #d4ebff;}#sk-container-id-1 div.sk-serial::before {content: \"\";position: absolute;border-left: 1px solid gray;box-sizing: border-box;top: 0;bottom: 0;left: 50%;z-index: 0;}#sk-container-id-1 div.sk-serial {display: flex;flex-direction: column;align-items: center;background-color: white;padding-right: 0.2em;padding-left: 0.2em;position: relative;}#sk-container-id-1 div.sk-item {position: relative;z-index: 1;}#sk-container-id-1 div.sk-parallel {display: flex;align-items: stretch;justify-content: center;background-color: white;position: relative;}#sk-container-id-1 div.sk-item::before, #sk-container-id-1 div.sk-parallel-item::before {content: \"\";position: absolute;border-left: 1px solid gray;box-sizing: border-box;top: 0;bottom: 0;left: 50%;z-index: -1;}#sk-container-id-1 div.sk-parallel-item {display: flex;flex-direction: column;z-index: 1;position: relative;background-color: white;}#sk-container-id-1 div.sk-parallel-item:first-child::after {align-self: flex-end;width: 50%;}#sk-container-id-1 div.sk-parallel-item:last-child::after {align-self: flex-start;width: 50%;}#sk-container-id-1 div.sk-parallel-item:only-child::after {width: 0;}#sk-container-id-1 div.sk-dashed-wrapped {border: 1px dashed gray;margin: 0 0.4em 0.5em 0.4em;box-sizing: border-box;padding-bottom: 0.4em;background-color: white;}#sk-container-id-1 div.sk-label label {font-family: monospace;font-weight: bold;display: inline-block;line-height: 1.2em;}#sk-container-id-1 div.sk-label-container {text-align: center;}#sk-container-id-1 div.sk-container {/* jupyter's `normalize.less` sets `[hidden] { display: none; }` but bootstrap.min.css set `[hidden] { display: none !important; }` so we also need the `!important` here to be able to override the default hidden behavior on the sphinx rendered scikit-learn.org. See: https://github.com/scikit-learn/scikit-learn/issues/21755 */display: inline-block !important;position: relative;}#sk-container-id-1 div.sk-text-repr-fallback {display: none;}</style><div id=\"sk-container-id-1\" class=\"sk-top-container\"><div class=\"sk-text-repr-fallback\"><pre>RandomizedSearchCV(cv=3, estimator=RandomForestClassifier(), n_iter=100,\n",
       "                   n_jobs=1,\n",
       "                   param_distributions={&#x27;criterion&#x27;: [&#x27;entropy&#x27;, &#x27;gini&#x27;],\n",
       "                                        &#x27;max_depth&#x27;: [10, 120, 230, 340, 450,\n",
       "                                                      560, 670, 780, 890,\n",
       "                                                      1000],\n",
       "                                        &#x27;max_features&#x27;: [&#x27;sqrt&#x27;, &#x27;log2&#x27;],\n",
       "                                        &#x27;min_samples_leaf&#x27;: [2, 4, 6, 8],\n",
       "                                        &#x27;min_samples_split&#x27;: [2, 3, 4, 5, 7, 9],\n",
       "                                        &#x27;n_estimators&#x27;: [200, 400, 600, 800,\n",
       "                                                         1000, 1200, 1400, 1600,\n",
       "                                                         1800, 2000]},\n",
       "                   random_state=100, verbose=2)</pre><b>In a Jupyter environment, please rerun this cell to show the HTML representation or trust the notebook. <br />On GitHub, the HTML representation is unable to render, please try loading this page with nbviewer.org.</b></div><div class=\"sk-container\" hidden><div class=\"sk-item sk-dashed-wrapped\"><div class=\"sk-label-container\"><div class=\"sk-label sk-toggleable\"><input class=\"sk-toggleable__control sk-hidden--visually\" id=\"sk-estimator-id-1\" type=\"checkbox\" ><label for=\"sk-estimator-id-1\" class=\"sk-toggleable__label sk-toggleable__label-arrow\">RandomizedSearchCV</label><div class=\"sk-toggleable__content\"><pre>RandomizedSearchCV(cv=3, estimator=RandomForestClassifier(), n_iter=100,\n",
       "                   n_jobs=1,\n",
       "                   param_distributions={&#x27;criterion&#x27;: [&#x27;entropy&#x27;, &#x27;gini&#x27;],\n",
       "                                        &#x27;max_depth&#x27;: [10, 120, 230, 340, 450,\n",
       "                                                      560, 670, 780, 890,\n",
       "                                                      1000],\n",
       "                                        &#x27;max_features&#x27;: [&#x27;sqrt&#x27;, &#x27;log2&#x27;],\n",
       "                                        &#x27;min_samples_leaf&#x27;: [2, 4, 6, 8],\n",
       "                                        &#x27;min_samples_split&#x27;: [2, 3, 4, 5, 7, 9],\n",
       "                                        &#x27;n_estimators&#x27;: [200, 400, 600, 800,\n",
       "                                                         1000, 1200, 1400, 1600,\n",
       "                                                         1800, 2000]},\n",
       "                   random_state=100, verbose=2)</pre></div></div></div><div class=\"sk-parallel\"><div class=\"sk-parallel-item\"><div class=\"sk-item\"><div class=\"sk-label-container\"><div class=\"sk-label sk-toggleable\"><input class=\"sk-toggleable__control sk-hidden--visually\" id=\"sk-estimator-id-2\" type=\"checkbox\" ><label for=\"sk-estimator-id-2\" class=\"sk-toggleable__label sk-toggleable__label-arrow\">estimator: RandomForestClassifier</label><div class=\"sk-toggleable__content\"><pre>RandomForestClassifier()</pre></div></div></div><div class=\"sk-serial\"><div class=\"sk-item\"><div class=\"sk-estimator sk-toggleable\"><input class=\"sk-toggleable__control sk-hidden--visually\" id=\"sk-estimator-id-3\" type=\"checkbox\" ><label for=\"sk-estimator-id-3\" class=\"sk-toggleable__label sk-toggleable__label-arrow\">RandomForestClassifier</label><div class=\"sk-toggleable__content\"><pre>RandomForestClassifier()</pre></div></div></div></div></div></div></div></div></div></div>"
      ],
      "text/plain": [
       "RandomizedSearchCV(cv=3, estimator=RandomForestClassifier(), n_iter=100,\n",
       "                   n_jobs=1,\n",
       "                   param_distributions={'criterion': ['entropy', 'gini'],\n",
       "                                        'max_depth': [10, 120, 230, 340, 450,\n",
       "                                                      560, 670, 780, 890,\n",
       "                                                      1000],\n",
       "                                        'max_features': ['sqrt', 'log2'],\n",
       "                                        'min_samples_leaf': [2, 4, 6, 8],\n",
       "                                        'min_samples_split': [2, 3, 4, 5, 7, 9],\n",
       "                                        'n_estimators': [200, 400, 600, 800,\n",
       "                                                         1000, 1200, 1400, 1600,\n",
       "                                                         1800, 2000]},\n",
       "                   random_state=100, verbose=2)"
      ]
     },
     "execution_count": 10,
     "metadata": {},
     "output_type": "execute_result"
    }
   ],
   "source": [
    "rf_estimator = RandomForestClassifier()\n",
    "random_search = RandomizedSearchCV(estimator = rf_estimator, param_distributions = search_space, n_iter = 100, cv=3, verbose = 2, random_state = 100, n_jobs=1)\n",
    "\n",
    "random_search.fit(X_train,y_train)"
   ]
  },
  {
   "cell_type": "code",
   "execution_count": 11,
   "metadata": {},
   "outputs": [
    {
     "data": {
      "text/plain": [
       "{'n_estimators': 200,\n",
       " 'min_samples_split': 2,\n",
       " 'min_samples_leaf': 6,\n",
       " 'max_features': 'sqrt',\n",
       " 'max_depth': 1000,\n",
       " 'criterion': 'gini'}"
      ]
     },
     "execution_count": 11,
     "metadata": {},
     "output_type": "execute_result"
    }
   ],
   "source": [
    "random_search.best_params_"
   ]
  },
  {
   "cell_type": "code",
   "execution_count": 12,
   "metadata": {},
   "outputs": [
    {
     "data": {
      "text/html": [
       "<style>#sk-container-id-2 {color: black;}#sk-container-id-2 pre{padding: 0;}#sk-container-id-2 div.sk-toggleable {background-color: white;}#sk-container-id-2 label.sk-toggleable__label {cursor: pointer;display: block;width: 100%;margin-bottom: 0;padding: 0.3em;box-sizing: border-box;text-align: center;}#sk-container-id-2 label.sk-toggleable__label-arrow:before {content: \"▸\";float: left;margin-right: 0.25em;color: #696969;}#sk-container-id-2 label.sk-toggleable__label-arrow:hover:before {color: black;}#sk-container-id-2 div.sk-estimator:hover label.sk-toggleable__label-arrow:before {color: black;}#sk-container-id-2 div.sk-toggleable__content {max-height: 0;max-width: 0;overflow: hidden;text-align: left;background-color: #f0f8ff;}#sk-container-id-2 div.sk-toggleable__content pre {margin: 0.2em;color: black;border-radius: 0.25em;background-color: #f0f8ff;}#sk-container-id-2 input.sk-toggleable__control:checked~div.sk-toggleable__content {max-height: 200px;max-width: 100%;overflow: auto;}#sk-container-id-2 input.sk-toggleable__control:checked~label.sk-toggleable__label-arrow:before {content: \"▾\";}#sk-container-id-2 div.sk-estimator input.sk-toggleable__control:checked~label.sk-toggleable__label {background-color: #d4ebff;}#sk-container-id-2 div.sk-label input.sk-toggleable__control:checked~label.sk-toggleable__label {background-color: #d4ebff;}#sk-container-id-2 input.sk-hidden--visually {border: 0;clip: rect(1px 1px 1px 1px);clip: rect(1px, 1px, 1px, 1px);height: 1px;margin: -1px;overflow: hidden;padding: 0;position: absolute;width: 1px;}#sk-container-id-2 div.sk-estimator {font-family: monospace;background-color: #f0f8ff;border: 1px dotted black;border-radius: 0.25em;box-sizing: border-box;margin-bottom: 0.5em;}#sk-container-id-2 div.sk-estimator:hover {background-color: #d4ebff;}#sk-container-id-2 div.sk-parallel-item::after {content: \"\";width: 100%;border-bottom: 1px solid gray;flex-grow: 1;}#sk-container-id-2 div.sk-label:hover label.sk-toggleable__label {background-color: #d4ebff;}#sk-container-id-2 div.sk-serial::before {content: \"\";position: absolute;border-left: 1px solid gray;box-sizing: border-box;top: 0;bottom: 0;left: 50%;z-index: 0;}#sk-container-id-2 div.sk-serial {display: flex;flex-direction: column;align-items: center;background-color: white;padding-right: 0.2em;padding-left: 0.2em;position: relative;}#sk-container-id-2 div.sk-item {position: relative;z-index: 1;}#sk-container-id-2 div.sk-parallel {display: flex;align-items: stretch;justify-content: center;background-color: white;position: relative;}#sk-container-id-2 div.sk-item::before, #sk-container-id-2 div.sk-parallel-item::before {content: \"\";position: absolute;border-left: 1px solid gray;box-sizing: border-box;top: 0;bottom: 0;left: 50%;z-index: -1;}#sk-container-id-2 div.sk-parallel-item {display: flex;flex-direction: column;z-index: 1;position: relative;background-color: white;}#sk-container-id-2 div.sk-parallel-item:first-child::after {align-self: flex-end;width: 50%;}#sk-container-id-2 div.sk-parallel-item:last-child::after {align-self: flex-start;width: 50%;}#sk-container-id-2 div.sk-parallel-item:only-child::after {width: 0;}#sk-container-id-2 div.sk-dashed-wrapped {border: 1px dashed gray;margin: 0 0.4em 0.5em 0.4em;box-sizing: border-box;padding-bottom: 0.4em;background-color: white;}#sk-container-id-2 div.sk-label label {font-family: monospace;font-weight: bold;display: inline-block;line-height: 1.2em;}#sk-container-id-2 div.sk-label-container {text-align: center;}#sk-container-id-2 div.sk-container {/* jupyter's `normalize.less` sets `[hidden] { display: none; }` but bootstrap.min.css set `[hidden] { display: none !important; }` so we also need the `!important` here to be able to override the default hidden behavior on the sphinx rendered scikit-learn.org. See: https://github.com/scikit-learn/scikit-learn/issues/21755 */display: inline-block !important;position: relative;}#sk-container-id-2 div.sk-text-repr-fallback {display: none;}</style><div id=\"sk-container-id-2\" class=\"sk-top-container\"><div class=\"sk-text-repr-fallback\"><pre>RandomForestClassifier(max_depth=1000, min_samples_leaf=6, n_estimators=200)</pre><b>In a Jupyter environment, please rerun this cell to show the HTML representation or trust the notebook. <br />On GitHub, the HTML representation is unable to render, please try loading this page with nbviewer.org.</b></div><div class=\"sk-container\" hidden><div class=\"sk-item\"><div class=\"sk-estimator sk-toggleable\"><input class=\"sk-toggleable__control sk-hidden--visually\" id=\"sk-estimator-id-4\" type=\"checkbox\" checked><label for=\"sk-estimator-id-4\" class=\"sk-toggleable__label sk-toggleable__label-arrow\">RandomForestClassifier</label><div class=\"sk-toggleable__content\"><pre>RandomForestClassifier(max_depth=1000, min_samples_leaf=6, n_estimators=200)</pre></div></div></div></div></div>"
      ],
      "text/plain": [
       "RandomForestClassifier(max_depth=1000, min_samples_leaf=6, n_estimators=200)"
      ]
     },
     "execution_count": 12,
     "metadata": {},
     "output_type": "execute_result"
    }
   ],
   "source": [
    "random_search.best_estimator_\n"
   ]
  },
  {
   "cell_type": "code",
   "execution_count": 13,
   "metadata": {},
   "outputs": [
    {
     "name": "stdout",
     "output_type": "stream",
     "text": [
      "<-------------------Confusion metrics results is ------------->\n",
      " : [[87 13]\n",
      " [21 33]]\n",
      "<------------------Classification report is---------------> \n",
      ":               precision    recall  f1-score   support\n",
      "\n",
      "           0       0.81      0.87      0.84       100\n",
      "           1       0.72      0.61      0.66        54\n",
      "\n",
      "    accuracy                           0.78       154\n",
      "   macro avg       0.76      0.74      0.75       154\n",
      "weighted avg       0.77      0.78      0.77       154\n",
      "\n",
      "<------------------ Accuracy score---------------->\n",
      " : 0.7792207792207793\n"
     ]
    }
   ],
   "source": [
    "rf_estimator = random_search.best_estimator_\n",
    "\n",
    "y_pred = rf_estimator.predict(X_test)\n",
    "print(\"<-------------------Confusion metrics results is ------------->\\n : {}\".format(confusion_matrix(y_test, y_pred)))\n",
    "print(\"<------------------Classification report is---------------> \\n: {}\".format(classification_report(y_test, y_pred)))\n",
    "print(\"<------------------ Accuracy score---------------->\\n : {}\".format(accuracy_score(y_test, y_pred)))"
   ]
  },
  {
   "cell_type": "markdown",
   "metadata": {},
   "source": [
    "### 3.Automated Hyperparameter Tuning\n",
    "\n",
    "- Bayesian Optimization \n",
    "- Evolutionary Algorithm (TOPT)\n",
    "- Gradient Descent \n",
    "\n",
    "### 1. Hyperpot"
   ]
  },
  {
   "cell_type": "code",
   "execution_count": 17,
   "metadata": {},
   "outputs": [
    {
     "data": {
      "text/plain": [
       "{'criterion': <hyperopt.pyll.base.Apply at 0x1efbf501f60>,\n",
       " 'max_depth': <hyperopt.pyll.base.Apply at 0x1efbf5024d0>,\n",
       " 'max_features': <hyperopt.pyll.base.Apply at 0x1efbf501600>,\n",
       " 'min_samples_split': <hyperopt.pyll.base.Apply at 0x1efbf5017b0>,\n",
       " 'n_estimators': <hyperopt.pyll.base.Apply at 0x1efbf500160>}"
      ]
     },
     "execution_count": 17,
     "metadata": {},
     "output_type": "execute_result"
    }
   ],
   "source": [
    "from hyperopt import hp, fmin, tpe, STATUS_OK, Trials\n",
    "from sklearn.model_selection import  cross_val_score\n",
    "# hp is used to define search space\n",
    "\n",
    "space = {\n",
    "    'criterion': hp.choice('criterion',['entropy','gini']),\n",
    "    'max_depth': hp.quniform('max_depth', 10,1200,20),\n",
    "    'max_features':hp.choice('max_features',['log2','sqrt']),\n",
    "    'min_samples_split':hp.uniform('min_samples_split',0,0.5),\n",
    "    'min_samples_split': hp.uniform('min_samples_split', 0, 1),\n",
    "    'n_estimators': hp.choice('n_estimators',[10,50,300])\n",
    "}\n",
    "\n",
    "space"
   ]
  },
  {
   "cell_type": "code",
   "execution_count": 22,
   "metadata": {},
   "outputs": [],
   "source": [
    "def objective(space):\n",
    "    model = RandomForestClassifier(criterion=space['criterion'],\n",
    "    max_features = space['max_features'],\n",
    "    min_samples_leaf = space['min_samples_split'],\n",
    "    n_estimators = space['n_estimators'])\n",
    "\n",
    "    accuracy = cross_val_score(model, X_train, y_train, cv=5).mean()\n",
    "\n",
    "    # we need to maximize accuracy, hence we return it as negative\n",
    "    return {'loss': -accuracy, 'status': STATUS_OK}\n",
    "\n"
   ]
  },
  {
   "cell_type": "code",
   "execution_count": 23,
   "metadata": {},
   "outputs": [
    {
     "name": "stdout",
     "output_type": "stream",
     "text": [
      "100%|██████████| 80/80 [02:59<00:00,  2.24s/trial, best loss: -0.7850459816073571]\n"
     ]
    }
   ],
   "source": [
    "trials = Trials()\n",
    "\n",
    "best = fmin(fn=objective,\n",
    "        space = space,\n",
    "        algo = tpe.suggest,\n",
    "        max_evals = 80,\n",
    "        trials = trials)"
   ]
  },
  {
   "cell_type": "code",
   "execution_count": 26,
   "metadata": {},
   "outputs": [
    {
     "data": {
      "text/plain": [
       "{'criterion': 1,\n",
       " 'max_depth': 80.0,\n",
       " 'max_features': 1,\n",
       " 'min_samples_split': 0.002491760751933584,\n",
       " 'n_estimators': 1}"
      ]
     },
     "execution_count": 26,
     "metadata": {},
     "output_type": "execute_result"
    }
   ],
   "source": [
    "best"
   ]
  },
  {
   "cell_type": "code",
   "execution_count": 30,
   "metadata": {},
   "outputs": [
    {
     "data": {
      "text/html": [
       "<style>#sk-container-id-3 {color: black;}#sk-container-id-3 pre{padding: 0;}#sk-container-id-3 div.sk-toggleable {background-color: white;}#sk-container-id-3 label.sk-toggleable__label {cursor: pointer;display: block;width: 100%;margin-bottom: 0;padding: 0.3em;box-sizing: border-box;text-align: center;}#sk-container-id-3 label.sk-toggleable__label-arrow:before {content: \"▸\";float: left;margin-right: 0.25em;color: #696969;}#sk-container-id-3 label.sk-toggleable__label-arrow:hover:before {color: black;}#sk-container-id-3 div.sk-estimator:hover label.sk-toggleable__label-arrow:before {color: black;}#sk-container-id-3 div.sk-toggleable__content {max-height: 0;max-width: 0;overflow: hidden;text-align: left;background-color: #f0f8ff;}#sk-container-id-3 div.sk-toggleable__content pre {margin: 0.2em;color: black;border-radius: 0.25em;background-color: #f0f8ff;}#sk-container-id-3 input.sk-toggleable__control:checked~div.sk-toggleable__content {max-height: 200px;max-width: 100%;overflow: auto;}#sk-container-id-3 input.sk-toggleable__control:checked~label.sk-toggleable__label-arrow:before {content: \"▾\";}#sk-container-id-3 div.sk-estimator input.sk-toggleable__control:checked~label.sk-toggleable__label {background-color: #d4ebff;}#sk-container-id-3 div.sk-label input.sk-toggleable__control:checked~label.sk-toggleable__label {background-color: #d4ebff;}#sk-container-id-3 input.sk-hidden--visually {border: 0;clip: rect(1px 1px 1px 1px);clip: rect(1px, 1px, 1px, 1px);height: 1px;margin: -1px;overflow: hidden;padding: 0;position: absolute;width: 1px;}#sk-container-id-3 div.sk-estimator {font-family: monospace;background-color: #f0f8ff;border: 1px dotted black;border-radius: 0.25em;box-sizing: border-box;margin-bottom: 0.5em;}#sk-container-id-3 div.sk-estimator:hover {background-color: #d4ebff;}#sk-container-id-3 div.sk-parallel-item::after {content: \"\";width: 100%;border-bottom: 1px solid gray;flex-grow: 1;}#sk-container-id-3 div.sk-label:hover label.sk-toggleable__label {background-color: #d4ebff;}#sk-container-id-3 div.sk-serial::before {content: \"\";position: absolute;border-left: 1px solid gray;box-sizing: border-box;top: 0;bottom: 0;left: 50%;z-index: 0;}#sk-container-id-3 div.sk-serial {display: flex;flex-direction: column;align-items: center;background-color: white;padding-right: 0.2em;padding-left: 0.2em;position: relative;}#sk-container-id-3 div.sk-item {position: relative;z-index: 1;}#sk-container-id-3 div.sk-parallel {display: flex;align-items: stretch;justify-content: center;background-color: white;position: relative;}#sk-container-id-3 div.sk-item::before, #sk-container-id-3 div.sk-parallel-item::before {content: \"\";position: absolute;border-left: 1px solid gray;box-sizing: border-box;top: 0;bottom: 0;left: 50%;z-index: -1;}#sk-container-id-3 div.sk-parallel-item {display: flex;flex-direction: column;z-index: 1;position: relative;background-color: white;}#sk-container-id-3 div.sk-parallel-item:first-child::after {align-self: flex-end;width: 50%;}#sk-container-id-3 div.sk-parallel-item:last-child::after {align-self: flex-start;width: 50%;}#sk-container-id-3 div.sk-parallel-item:only-child::after {width: 0;}#sk-container-id-3 div.sk-dashed-wrapped {border: 1px dashed gray;margin: 0 0.4em 0.5em 0.4em;box-sizing: border-box;padding-bottom: 0.4em;background-color: white;}#sk-container-id-3 div.sk-label label {font-family: monospace;font-weight: bold;display: inline-block;line-height: 1.2em;}#sk-container-id-3 div.sk-label-container {text-align: center;}#sk-container-id-3 div.sk-container {/* jupyter's `normalize.less` sets `[hidden] { display: none; }` but bootstrap.min.css set `[hidden] { display: none !important; }` so we also need the `!important` here to be able to override the default hidden behavior on the sphinx rendered scikit-learn.org. See: https://github.com/scikit-learn/scikit-learn/issues/21755 */display: inline-block !important;position: relative;}#sk-container-id-3 div.sk-text-repr-fallback {display: none;}</style><div id=\"sk-container-id-3\" class=\"sk-top-container\"><div class=\"sk-text-repr-fallback\"><pre>RandomForestClassifier(max_depth=80, max_features=1,\n",
       "                       min_samples_split=0.002491760751933584, n_estimators=1)</pre><b>In a Jupyter environment, please rerun this cell to show the HTML representation or trust the notebook. <br />On GitHub, the HTML representation is unable to render, please try loading this page with nbviewer.org.</b></div><div class=\"sk-container\" hidden><div class=\"sk-item\"><div class=\"sk-estimator sk-toggleable\"><input class=\"sk-toggleable__control sk-hidden--visually\" id=\"sk-estimator-id-5\" type=\"checkbox\" checked><label for=\"sk-estimator-id-5\" class=\"sk-toggleable__label sk-toggleable__label-arrow\">RandomForestClassifier</label><div class=\"sk-toggleable__content\"><pre>RandomForestClassifier(max_depth=80, max_features=1,\n",
       "                       min_samples_split=0.002491760751933584, n_estimators=1)</pre></div></div></div></div></div>"
      ],
      "text/plain": [
       "RandomForestClassifier(max_depth=80, max_features=1,\n",
       "                       min_samples_split=0.002491760751933584, n_estimators=1)"
      ]
     },
     "execution_count": 30,
     "metadata": {},
     "output_type": "execute_result"
    }
   ],
   "source": [
    "best_random_forest = RandomForestClassifier(criterion='gini',\n",
    "                                            max_depth = int(best['max_depth']),\n",
    "                                            max_features = best['max_features'],\n",
    "                                            min_samples_split = best['min_samples_split'],\n",
    "                                            n_estimators = best['n_estimators'])\n",
    "\n",
    "best_random_forest.fit(X_train,y_train)"
   ]
  },
  {
   "cell_type": "code",
   "execution_count": 31,
   "metadata": {},
   "outputs": [
    {
     "name": "stdout",
     "output_type": "stream",
     "text": [
      "<-------------------Confusion metrics results is ------------->\n",
      " : [[73 27]\n",
      " [27 27]]\n",
      "<------------------Classification report is---------------> \n",
      ":               precision    recall  f1-score   support\n",
      "\n",
      "           0       0.73      0.73      0.73       100\n",
      "           1       0.50      0.50      0.50        54\n",
      "\n",
      "    accuracy                           0.65       154\n",
      "   macro avg       0.61      0.61      0.61       154\n",
      "weighted avg       0.65      0.65      0.65       154\n",
      "\n",
      "<------------------ Accuracy score----------------> : 0.6493506493506493\n"
     ]
    }
   ],
   "source": [
    "predictionforest = best_random_forest.predict(X_test)\n",
    "print(\"<-------------------Confusion metrics results is ------------->\\n : {}\".format(confusion_matrix(y_test, predictionforest)))\n",
    "print(\"<------------------Classification report is---------------> \\n: {}\".format(classification_report(y_test, predictionforest)))\n",
    "print(\"<------------------ Accuracy score----------------> : {}\".format(accuracy_score(y_test, predictionforest)))"
   ]
  }
 ],
 "metadata": {
  "kernelspec": {
   "display_name": "Learning",
   "language": "python",
   "name": "python3"
  },
  "language_info": {
   "codemirror_mode": {
    "name": "ipython",
    "version": 3
   },
   "file_extension": ".py",
   "mimetype": "text/x-python",
   "name": "python",
   "nbconvert_exporter": "python",
   "pygments_lexer": "ipython3",
   "version": "3.10.10"
  }
 },
 "nbformat": 4,
 "nbformat_minor": 2
}
